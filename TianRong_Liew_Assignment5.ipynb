{
 "cells": [
  {
   "cell_type": "code",
   "execution_count": 1,
   "metadata": {},
   "outputs": [
    {
     "name": "stderr",
     "output_type": "stream",
     "text": [
      "/Users/Rong/anaconda3/lib/python3.6/site-packages/statsmodels/compat/pandas.py:56: FutureWarning: The pandas.core.datetools module is deprecated and will be removed in a future version. Please use the pandas.tseries module instead.\n",
      "  from pandas.core import datetools\n"
     ]
    }
   ],
   "source": [
    "import numpy as np \n",
    "import pandas as pd\n",
    "import seaborn as sns\n",
    "import matplotlib.pyplot as plt \n",
    "%matplotlib inline\n",
    "import statsmodels.formula.api as smf \n",
    "import statsmodels.api as sm\n",
    "import os\n",
    "import pprint\n",
    "import random\n",
    "from random import randrange\n",
    "from random import seed \n",
    "from random import randint\n",
    "from math import sqrt\n",
    "from random_forest import random_forest\n",
    "from sklearn.model_selection import train_test_split\n",
    "import operator"
   ]
  },
  {
   "cell_type": "code",
   "execution_count": 2,
   "metadata": {},
   "outputs": [],
   "source": [
    "from classifier import classifier\n",
    "\n",
    "class random_forest_a5(classifier):\n",
    "    \n",
    "    def __init__(self, trees=10, max_depth= 5, sample_size=0.6):\n",
    "        self.trees = trees\n",
    "        self.max_depth = max_depth\n",
    "        self.sample_size = sample_size\n",
    "\n",
    "        return\n",
    "\n",
    "    def subSample(self, X, Y):\n",
    "        seed = random.randint(1, 500)\n",
    "        sample_X, test_X, sample_Y, test_Y = train_test_split(X, Y, test_size = 0.0, random_state=seed)\n",
    "        return sample_X, sample_Y\n",
    "\n",
    "    def create_list(self):\n",
    "\n",
    "        tree = list()\n",
    "\n",
    "        for i in range(self.trees):\n",
    "            tree.append(random_forest())\n",
    "\n",
    "        return tree\n",
    "\n",
    "    def sample_of_features(self, X):\n",
    "        \n",
    "        feature_list = np.random.choice(len(X[1]), size = 3, replace = False)\n",
    "\n",
    "        return feature_list\n",
    "\n",
    "    def fit(self, X, Y):\n",
    "\n",
    "        self.tree_list = self.create_list()\n",
    "\n",
    "        for i in self.tree_list:\n",
    "            subSample_X, subSample_Y = self.subSample(X, Y)\n",
    "            i.feature_list = self.sample_of_features(X)\n",
    "            i.fit(subSample_X, subSample_Y)\n",
    "\n",
    "        return\n",
    "    \n",
    "    def predict(self, X):\n",
    "\n",
    "       \n",
    "        hypothesis_list = [t.predict(X) for t in self.tree_list]\n",
    "        result = []\n",
    "        for i in range(len(X)):\n",
    "            countA = 0\n",
    "            countB = 0\n",
    "            for j in hypothesis_list:\n",
    "                if j[i] == ' <=50K':\n",
    "                    countA = countA + 1\n",
    "                else: \n",
    "                    countB = countB + 1\n",
    "            if countA > countB:\n",
    "                result.append(' <=50K.')\n",
    "            else:\n",
    "                result.append(' >50K.')\n",
    "                    \n",
    "    \n",
    "        return result\n"
   ]
  },
  {
   "cell_type": "code",
   "execution_count": 3,
   "metadata": {},
   "outputs": [
    {
     "name": "stdout",
     "output_type": "stream",
     "text": [
      "1     <=50K.\n",
      "2     <=50K.\n",
      "3      >50K.\n",
      "4      >50K.\n",
      "5     <=50K.\n",
      "Name: type, dtype: object\n"
     ]
    }
   ],
   "source": [
    "os.getcwd()\n",
    "adult = pd.read_csv(\"/Users/Rong/Documents/USF/Machine Learning 2/datasets/adult.csv\", names = ['age', 'workclass', 'fnlwgt', 'education', 'education-num', 'marital-status'\n",
    ", 'occupation', 'relationship', 'race', 'sex', 'capital-gain', 'capital-loss', 'hours-per-week', 'native-country', 'type'])\n",
    "# print(adult.head())\n",
    "\n",
    "test = pd.read_csv(\"/Users/Rong/Documents/USF/Machine Learning 2/datasets/adulttest.csv\", names = ['age', 'workclass', 'fnlwgt', 'education', 'education-num', 'marital-status'\n",
    ", 'occupation', 'relationship', 'race', 'sex', 'capital-gain', 'capital-loss', 'hours-per-week', 'native-country', 'type'])\n",
    "\n",
    "testData = test.iloc[1:, :]\n",
    "# print(testData.head())\n",
    "test_X = testData.iloc[:,:-1]\n",
    "test_Y = testData.iloc[:,-1]\n",
    "\n",
    "print(test_Y.head())\n"
   ]
  },
  {
   "cell_type": "code",
   "execution_count": 4,
   "metadata": {
    "collapsed": true
   },
   "outputs": [],
   "source": [
    "age = adult.iloc[:,0]\n",
    "# print(age.head())\n",
    "ageCut = pd.cut(age, 8)\n",
    "adult.iloc[:,0] = ageCut\n",
    "\n",
    "fnlwgt = adult.iloc[:,2]\n",
    "fnlwgtCut = pd.cut(fnlwgt, 8)\n",
    "adult.iloc[:,2] = fnlwgtCut\n",
    "\n",
    "eduNum = adult.iloc[:, 4]\n",
    "eduNumCut = pd.cut(eduNum, 8)\n",
    "adult.iloc[:, 4] = eduNumCut\n",
    "\n",
    "capGain = adult.iloc[:,10]\n",
    "capGainCut = pd.cut(capGain, 8)\n",
    "adult.iloc[:,10] = capGainCut\n",
    "\n",
    "capLoss = adult.iloc[:,11]\n",
    "capLossCut = pd.cut(capLoss, 8)\n",
    "adult.iloc[:, 11] = capLossCut\n",
    "\n",
    "hpw = adult.iloc[:,12]\n",
    "hpwCut = pd.cut(hpw, 8)\n",
    "adult.iloc[:,12] = hpwCut"
   ]
  },
  {
   "cell_type": "code",
   "execution_count": 5,
   "metadata": {},
   "outputs": [
    {
     "name": "stdout",
     "output_type": "stream",
     "text": [
      "Accuracy score0.765910348644\n"
     ]
    }
   ],
   "source": [
    "# print(adult.head())\n",
    "\n",
    "X = adult.iloc[:, :-1]\n",
    "Y = adult.iloc[:, -1]\n",
    "X = X.values.tolist()\n",
    "Y = Y.values.tolist()\n",
    "test_X = test_X.values.tolist()\n",
    "test_Y = test_Y.values.tolist()\n",
    "\n",
    "my_model = random_forest_a5(10, 6, 0.6)\n",
    "my_model.fit(X, Y)\n",
    "hyp = my_model.predict(test_X)\n",
    "\n",
    "# print(hyp)\n",
    "from sklearn.metrics import accuracy_score\n",
    "\n",
    "score = accuracy_score(test_Y, hyp)\n",
    "print('Accuracy score' + str(score))\n"
   ]
  },
  {
   "cell_type": "code",
   "execution_count": null,
   "metadata": {
    "collapsed": true
   },
   "outputs": [],
   "source": []
  }
 ],
 "metadata": {
  "kernelspec": {
   "display_name": "Python 3",
   "language": "python",
   "name": "python3"
  },
  "language_info": {
   "codemirror_mode": {
    "name": "ipython",
    "version": 3
   },
   "file_extension": ".py",
   "mimetype": "text/x-python",
   "name": "python",
   "nbconvert_exporter": "python",
   "pygments_lexer": "ipython3",
   "version": "3.6.3"
  }
 },
 "nbformat": 4,
 "nbformat_minor": 2
}

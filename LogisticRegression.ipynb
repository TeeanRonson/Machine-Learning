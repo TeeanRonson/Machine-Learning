{
 "cells": [
  {
   "cell_type": "code",
   "execution_count": 118,
   "metadata": {
    "collapsed": true
   },
   "outputs": [],
   "source": [
    "import numpy as np \n",
    "import pandas as pd\n",
    "import seaborn as sns\n",
    "import matplotlib.pyplot as plt \n",
    "%matplotlib inline\n",
    "import statsmodels.formula.api as smf \n",
    "import statsmodels.api as sm\n",
    "import os"
   ]
  },
  {
   "cell_type": "code",
   "execution_count": 119,
   "metadata": {},
   "outputs": [
    {
     "data": {
      "text/plain": [
       "'/Users/Rong/Desktop'"
      ]
     },
     "execution_count": 119,
     "metadata": {},
     "output_type": "execute_result"
    }
   ],
   "source": [
    "os.getcwd()"
   ]
  },
  {
   "cell_type": "code",
   "execution_count": 120,
   "metadata": {},
   "outputs": [
    {
     "data": {
      "text/html": [
       "<div>\n",
       "<style>\n",
       "    .dataframe thead tr:only-child th {\n",
       "        text-align: right;\n",
       "    }\n",
       "\n",
       "    .dataframe thead th {\n",
       "        text-align: left;\n",
       "    }\n",
       "\n",
       "    .dataframe tbody tr th {\n",
       "        vertical-align: top;\n",
       "    }\n",
       "</style>\n",
       "<table border=\"1\" class=\"dataframe\">\n",
       "  <thead>\n",
       "    <tr style=\"text-align: right;\">\n",
       "      <th></th>\n",
       "      <th>0</th>\n",
       "      <th>1</th>\n",
       "      <th>2</th>\n",
       "    </tr>\n",
       "  </thead>\n",
       "  <tbody>\n",
       "    <tr>\n",
       "      <th>0</th>\n",
       "      <td>-0.017612</td>\n",
       "      <td>14.053064</td>\n",
       "      <td>0</td>\n",
       "    </tr>\n",
       "    <tr>\n",
       "      <th>1</th>\n",
       "      <td>-1.395634</td>\n",
       "      <td>4.662541</td>\n",
       "      <td>1</td>\n",
       "    </tr>\n",
       "    <tr>\n",
       "      <th>2</th>\n",
       "      <td>-0.752157</td>\n",
       "      <td>6.538620</td>\n",
       "      <td>0</td>\n",
       "    </tr>\n",
       "    <tr>\n",
       "      <th>3</th>\n",
       "      <td>-1.322371</td>\n",
       "      <td>7.152853</td>\n",
       "      <td>0</td>\n",
       "    </tr>\n",
       "    <tr>\n",
       "      <th>4</th>\n",
       "      <td>0.423363</td>\n",
       "      <td>11.054677</td>\n",
       "      <td>0</td>\n",
       "    </tr>\n",
       "  </tbody>\n",
       "</table>\n",
       "</div>"
      ],
      "text/plain": [
       "          0          1  2\n",
       "0 -0.017612  14.053064  0\n",
       "1 -1.395634   4.662541  1\n",
       "2 -0.752157   6.538620  0\n",
       "3 -1.322371   7.152853  0\n",
       "4  0.423363  11.054677  0"
      ]
     },
     "execution_count": 120,
     "metadata": {},
     "output_type": "execute_result"
    }
   ],
   "source": [
    "testSet = pd.read_csv(\"testSet.txt\", sep= \"\\\\s+\", header = None)\n",
    "##dataPlot = sns.lmplot('x', 'y', 'type', data=testData, ci =None)\n",
    "testSet.head()\n",
    "\n",
    "\n"
   ]
  },
  {
   "cell_type": "code",
   "execution_count": 122,
   "metadata": {
    "collapsed": true
   },
   "outputs": [],
   "source": [
    "import numpy as np\n",
    "\n",
    "\n",
    "class logistic_regression(classifier):\n",
    "\n",
    "    def __init__(self, cycles):\n",
    "        self.alpha = 0.001\n",
    "        self.maxcycles = cycles\n",
    "        self.weights = None  # Placeholder for later...\n",
    "\n",
    "\n",
    "    def sigmoid(self, x):\n",
    "        return 1.0 / (1 + np.exp(-x))\n",
    "\n",
    "\n",
    "    def fit(self, Xin, Yin):\n",
    "        print('Logistic Regression classifier - fit')\n",
    "\n",
    "        X = np.mat(Xin)\n",
    "        Y = np.mat(Yin).transpose()\n",
    "        m, n = X.shape\n",
    "        self.weights = np.ones((n, 1))\n",
    "        for k in range(self.maxcycles):\n",
    "            h = self.sigmoid(X * self.weights)\n",
    "            error = (Y - h)\n",
    "            self.weights = self.weights + self.alpha * X.transpose() * error\n",
    "        return self.weights\n",
    " \n",
    "\n",
    "    def predict(self, X):\n",
    "        hypotheses = []\n",
    "        for x in X:\n",
    "            prob = self.sigmoid(sum(x*self.weights))\n",
    "            if prob > 0.5:\n",
    "                hypotheses.append(1)\n",
    "            else:\n",
    "                hypotheses.append(0)\n",
    "        return hypotheses"
   ]
  },
  {
   "cell_type": "code",
   "execution_count": 123,
   "metadata": {},
   "outputs": [
    {
     "name": "stdout",
     "output_type": "stream",
     "text": [
      "Logistic Regression classifier - fit\n",
      "Weights: [[ 9.35184677]\n",
      " [ 0.87401362]\n",
      " [-1.28891422]]\n"
     ]
    },
    {
     "data": {
      "image/png": "[encoded data removed]",
      "text/plain": [
       "<matplotlib.figure.Figure at 0x1c1ea4a7f0>"
      ]
     },
     "metadata": {},
     "output_type": "display_data"
    },
    {
     "name": "stdout",
     "output_type": "stream",
     "text": [
      "Accuracy: 0.92\n",
      "-----------------------------\n",
      "\tConfusion Matrix\n",
      "-----------------------------\n",
      "\t\tPredicted\n",
      "\tActual\tNO\tYES\n",
      "-----------------------------\n",
      "\tNO\t 10.0 \t 1.0\n",
      "-----------------------------\n",
      "\tYES\t 1.0 \t 13.0\n",
      "-----------------------------\n"
     ]
    }
   ],
   "source": [
    "\n",
    "\n",
    "def get_data(filename):\n",
    "    datamatrix = []\n",
    "    labelmatrix = []\n",
    "    fr = open(filename)\n",
    "    for line in fr.readlines():\n",
    "        lineArr = line.strip().split()\n",
    "        datamatrix.append([1.0, float(lineArr[0]), float(lineArr[1])])\n",
    "        labelmatrix.append(int(lineArr[2]))\n",
    "    return datamatrix, labelmatrix\n",
    "\n",
    "\n",
    "def plot_fit(fit_line, datamatrix, labelmatrix):\n",
    "    import matplotlib.pyplot as plt\n",
    "    import numpy as np\n",
    "\n",
    "    weights = fit_line.getA()\n",
    "\n",
    "    dataarray = np.asarray(datamatrix)\n",
    "    n = dataarray.shape[0]\n",
    "\n",
    "    # Keep track of the two classes in different arrays so they can be plotted later...\n",
    "    xcord1 = []\n",
    "    ycord1 = []\n",
    "    xcord2 = []\n",
    "    ycord2 = []\n",
    "    for i in range(n):\n",
    "        if int(labelmatrix[i]) == 1:\n",
    "            xcord1.append(dataarray[i, 1])\n",
    "            ycord1.append(dataarray[i, 2])\n",
    "        else:\n",
    "            xcord2.append(dataarray[i, 1])\n",
    "            ycord2.append(dataarray[i, 2])\n",
    "    fig = plt.figure()\n",
    "\n",
    "    # Plot the data as points with different colours\n",
    "    ax = fig.add_subplot(111)\n",
    "    ax.scatter(xcord1, ycord1, s=30, c='red', marker='s')\n",
    "    ax.scatter(xcord2, ycord2, s=30, c='green')\n",
    "\n",
    "    # Plot the best-fit line\n",
    "    x = np.arange(-3.0, 3.0, 0.1)\n",
    "    y = (-weights[0] - weights[1] * x) / weights[2]\n",
    "    ax.plot(x, y)\n",
    "\n",
    "    plt.xlabel('x1')\n",
    "    plt.ylabel('x2')\n",
    "    plt.show()\n",
    "\n",
    "\n",
    "def accuracy(labels, hypotheses):\n",
    "    count = 0.0\n",
    "    correct = 0.0\n",
    "\n",
    "    for l, h in zip(labels, hypotheses):\n",
    "        count += 1.0\n",
    "        if l == h:\n",
    "            correct += 1.0\n",
    "    return correct / count\n",
    "\n",
    "\n",
    "def print_confusion_matrix(labels, hypotheses):\n",
    "    tp = 0.0\n",
    "    tn = 0.0\n",
    "    fp = 0.0\n",
    "    fn = 0.0\n",
    "    count = 1.0\n",
    "    for l, h in zip(labels, hypotheses):\n",
    "        count += 1.0\n",
    "        if l == 1 and h == 1:\n",
    "            tp += 1.0\n",
    "        elif l == 1 and h == 0:\n",
    "            fn += 1.0\n",
    "        elif l == 0 and h == 0:\n",
    "            tn += 1.0\n",
    "        else:\n",
    "            fp += 1\n",
    "    print('-----------------------------')\n",
    "    print('\\tConfusion Matrix')\n",
    "    print('-----------------------------')\n",
    "    print('\\t\\tPredicted')\n",
    "    print('\\tActual\\tNO\\tYES')\n",
    "    print('-----------------------------')\n",
    "    print('\\tNO\\t', tn, '\\t', fp)\n",
    "    print('-----------------------------')\n",
    "    print('\\tYES\\t', fn, '\\t', tp)\n",
    "    print('-----------------------------')\n",
    "\n",
    "    \n",
    "X, Y = get_data('testSet.txt')\n",
    "\n",
    "clf = logistic_regression(5000)\n",
    "w = clf.fit(X, Y)\n",
    "print('Weights:', w)\n",
    "plot_fit(w, X, Y)\n",
    "\n",
    "verify_x, verify_y = get_data('verify.txt')\n",
    "hypotheses = clf.predict(verify_x)\n",
    "\n",
    "print('Accuracy:', accuracy(verify_y, hypotheses))\n",
    "\n",
    "print_confusion_matrix(verify_y, hypotheses)"
   ]
  },
  {
   "cell_type": "code",
   "execution_count": 2,
   "metadata": {
    "collapsed": true
   },
   "outputs": [],
   "source": [
    "def get_data_and_labels(filename):\n",
    "    import pandas as pd\n",
    "    \n",
    "    df = pd.read_csv(filename, header = None, sep='\\t')\n",
    "    x = df.iloc[:,1]\n",
    "    y = df.iloc[:,0]\n",
    "    return x, y"
   ]
  },
  {
   "cell_type": "code",
   "execution_count": 7,
   "metadata": {},
   "outputs": [
    {
     "data": {
      "text/plain": [
       "0    POLIT\n",
       "1    POLIT\n",
       "2      NOT\n",
       "3    POLIT\n",
       "4    POLIT\n",
       "Name: 0, dtype: object"
      ]
     },
     "execution_count": 7,
     "metadata": {},
     "output_type": "execute_result"
    }
   ],
   "source": [
    "train_x, train_y = get_data_and_labels('/Users/Rong/Desktop/general-tweets.txt')\n",
    "test_x, test_y = get_data_and_labels('/Users/Rong/Desktop/keyword-tweets.txt')\n",
    "\n",
    "test_x.head()\n",
    "test_y.head()\n"
   ]
  },
  {
   "cell_type": "code",
   "execution_count": 150,
   "metadata": {
    "collapsed": true
   },
   "outputs": [],
   "source": [
    "def encode_labels(labels):\n",
    "    \n",
    "    from sklearn import preprocessing \n",
    "    \n",
    "    le = preprocessing.LabelEncoder()\n",
    "    le.fit(labels)\n",
    "    return le\n",
    "    "
   ]
  },
  {
   "cell_type": "code",
   "execution_count": 178,
   "metadata": {},
   "outputs": [
    {
     "data": {
      "text/plain": [
       "array([0, 0, 0, ..., 0, 0, 1])"
      ]
     },
     "execution_count": 178,
     "metadata": {},
     "output_type": "execute_result"
    }
   ],
   "source": [
    "le = encode_labels(train_y)\n",
    "train_targets = le.transform(train_y)\n",
    "test_targets = le.transform(test_y)\n",
    "\n",
    "train_targets"
   ]
  },
  {
   "cell_type": "code",
   "execution_count": 10,
   "metadata": {},
   "outputs": [
    {
     "name": "stdout",
     "output_type": "stream",
     "text": [
      "(2000, 9048)\n",
      "(2004, 9048)\n"
     ]
    }
   ],
   "source": [
    "from sklearn.feature_extraction.text import CountVectorizer\n",
    "\n",
    "count_vector = CountVectorizer()\n",
    "x_train_counts = count_vector.fit_transform(train_x).toarray()\n",
    "x_test_counts = count_vector.transform(test_x).toarray()\n",
    "\n",
    "print(x_train_counts.shape)\n",
    "print(x_test_counts.shape)\n",
    "#we have 2000 instances and 9048 features \n",
    "# In this way we lose so much degrees of freedom n-p\n",
    "##### stock words are useless so we want to get rid of them as features \n",
    "### words that occur too seldom are not sufficient to warrant predictive power \n",
    "### so we get rid of them too \n",
    "# lasso regression, if we see instances of two variables occur together too often then we only take one into account?\n"
   ]
  },
  {
   "cell_type": "code",
   "execution_count": 169,
   "metadata": {},
   "outputs": [
    {
     "name": "stdout",
     "output_type": "stream",
     "text": [
      "Accuracy:  0.15618762475\n",
      "Confusion Matrix:  [[ 313    0]\n",
      " [1691    0]]\n"
     ]
    }
   ],
   "source": [
    "from sklearn.linear_model import LogisticRegression \n",
    "from sklearn.metrics import accuracy_score, confusion_matrix\n",
    "\n",
    "classifier = LogisticRegression()\n",
    "classifier.fit(x_train_counts, train_targets)\n",
    "hyp = classifier.predict(x_test_counts)\n",
    "\n",
    "print('Accuracy: ', accuracy_score(test_targets, hyp))\n",
    "print('Confusion Matrix: ', confusion_matrix(test_targets, hyp))\n"
   ]
  },
  {
   "cell_type": "code",
   "execution_count": 175,
   "metadata": {},
   "outputs": [
    {
     "name": "stdout",
     "output_type": "stream",
     "text": [
      "C =  0.0001 ... accuracy:  0.15618762475\n",
      "C =  0.001 ... accuracy:  0.15618762475\n",
      "C =  0.01 ... accuracy:  0.15618762475\n",
      "C =  0.1 ... accuracy:  0.15618762475\n",
      "C =  1 ... accuracy:  0.199600798403\n",
      "C =  10 ... accuracy:  0.268962075848\n",
      "C =  100 ... accuracy:  0.288922155689\n",
      "C =  1000 ... accuracy:  0.292415169661\n",
      "C =  10000 ... accuracy:  0.273952095808\n"
     ]
    }
   ],
   "source": [
    "C = [0.0001, 0.001, 0.01, 0.1, 1, 10, 100, 1000, 10000]\n",
    "\n",
    "for c in C: \n",
    "    classifier = LogisticRegression(penalty ='l1', C=c)\n",
    "    classifier.fit(x_train_counts, train_targets)\n",
    "    hyp = classifier.predict(x_test_counts)\n",
    "    accuracy = accuracy_score(test_targets, hyp)\n",
    "    print('C = ', c, '... accuracy: ', accuracy)\n",
    "    "
   ]
  },
  {
   "cell_type": "code",
   "execution_count": 174,
   "metadata": {},
   "outputs": [
    {
     "name": "stdout",
     "output_type": "stream",
     "text": [
      "Confusion Matrix:  [[ 301   12]\n",
      " [1601   90]]\n"
     ]
    }
   ],
   "source": [
    "classifier.fit(x_train_counts, train_targets)\n",
    "hyp = classifier.predict(x_test_counts)\n",
    "print('Confusion Matrix: ', confusion_matrix(test_targets, hyp))"
   ]
  },
  {
   "cell_type": "code",
   "execution_count": null,
   "metadata": {
    "collapsed": true
   },
   "outputs": [],
   "source": []
  }
 ],
 "metadata": {
  "kernelspec": {
   "display_name": "Python 3",
   "language": "python",
   "name": "python3"
  },
  "language_info": {
   "codemirror_mode": {
    "name": "ipython",
    "version": 3
   },
   "file_extension": ".py",
   "mimetype": "text/x-python",
   "name": "python",
   "nbconvert_exporter": "python",
   "pygments_lexer": "ipython3",
   "version": "3.6.3"
  }
 },
 "nbformat": 4,
 "nbformat_minor": 2
}
